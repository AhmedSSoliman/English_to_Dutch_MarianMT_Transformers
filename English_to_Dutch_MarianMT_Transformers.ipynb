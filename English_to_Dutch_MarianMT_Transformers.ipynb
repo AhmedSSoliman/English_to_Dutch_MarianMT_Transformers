{
  "nbformat": 4,
  "nbformat_minor": 0,
  "metadata": {
    "colab": {
      "name": "English_to_Dutch_MarianMT_Transformers.ipynb",
      "provenance": [],
      "collapsed_sections": [],
      "machine_shape": "hm",
      "include_colab_link": true
    },
    "kernelspec": {
      "name": "python3",
      "display_name": "Python 3"
    },
    "language_info": {
      "name": "python"
    },
    "widgets": {
      "application/vnd.jupyter.widget-state+json": {
        "0343f26824a6482ea6d6294659cb40e9": {
          "model_module": "@jupyter-widgets/controls",
          "model_name": "HBoxModel",
          "model_module_version": "1.5.0",
          "state": {
            "_view_name": "HBoxView",
            "_dom_classes": [],
            "_model_name": "HBoxModel",
            "_view_module": "@jupyter-widgets/controls",
            "_model_module_version": "1.5.0",
            "_view_count": null,
            "_view_module_version": "1.5.0",
            "box_style": "",
            "layout": "IPY_MODEL_49ba4d276d6445ceb0bfabc2e2b32515",
            "_model_module": "@jupyter-widgets/controls",
            "children": [
              "IPY_MODEL_d162e9119e204bdcad9caf656c6d6b5a",
              "IPY_MODEL_bc683769b6674caf9b725e6ab09b8af1",
              "IPY_MODEL_6606e6dfd20f4424aecba18a2dfb2037"
            ]
          }
        },
        "49ba4d276d6445ceb0bfabc2e2b32515": {
          "model_module": "@jupyter-widgets/base",
          "model_name": "LayoutModel",
          "model_module_version": "1.2.0",
          "state": {
            "_view_name": "LayoutView",
            "grid_template_rows": null,
            "right": null,
            "justify_content": null,
            "_view_module": "@jupyter-widgets/base",
            "overflow": null,
            "_model_module_version": "1.2.0",
            "_view_count": null,
            "flex_flow": null,
            "width": null,
            "min_width": null,
            "border": null,
            "align_items": null,
            "bottom": null,
            "_model_module": "@jupyter-widgets/base",
            "top": null,
            "grid_column": null,
            "overflow_y": null,
            "overflow_x": null,
            "grid_auto_flow": null,
            "grid_area": null,
            "grid_template_columns": null,
            "flex": null,
            "_model_name": "LayoutModel",
            "justify_items": null,
            "grid_row": null,
            "max_height": null,
            "align_content": null,
            "visibility": null,
            "align_self": null,
            "height": null,
            "min_height": null,
            "padding": null,
            "grid_auto_rows": null,
            "grid_gap": null,
            "max_width": null,
            "order": null,
            "_view_module_version": "1.2.0",
            "grid_template_areas": null,
            "object_position": null,
            "object_fit": null,
            "grid_auto_columns": null,
            "margin": null,
            "display": null,
            "left": null
          }
        },
        "d162e9119e204bdcad9caf656c6d6b5a": {
          "model_module": "@jupyter-widgets/controls",
          "model_name": "HTMLModel",
          "model_module_version": "1.5.0",
          "state": {
            "_view_name": "HTMLView",
            "style": "IPY_MODEL_831132b52ec54306a33a3b62e52a4fce",
            "_dom_classes": [],
            "description": "",
            "_model_name": "HTMLModel",
            "placeholder": "​",
            "_view_module": "@jupyter-widgets/controls",
            "_model_module_version": "1.5.0",
            "value": "100%",
            "_view_count": null,
            "_view_module_version": "1.5.0",
            "description_tooltip": null,
            "_model_module": "@jupyter-widgets/controls",
            "layout": "IPY_MODEL_0e1f723e69ea4577968b64e7bc153d3e"
          }
        },
        "bc683769b6674caf9b725e6ab09b8af1": {
          "model_module": "@jupyter-widgets/controls",
          "model_name": "FloatProgressModel",
          "model_module_version": "1.5.0",
          "state": {
            "_view_name": "ProgressView",
            "style": "IPY_MODEL_7e4bba8ef59843e8817eb970a07da545",
            "_dom_classes": [],
            "description": "",
            "_model_name": "FloatProgressModel",
            "bar_style": "success",
            "max": 79,
            "_view_module": "@jupyter-widgets/controls",
            "_model_module_version": "1.5.0",
            "value": 79,
            "_view_count": null,
            "_view_module_version": "1.5.0",
            "orientation": "horizontal",
            "min": 0,
            "description_tooltip": null,
            "_model_module": "@jupyter-widgets/controls",
            "layout": "IPY_MODEL_1710ce88485a436bac6e9a894ac4f8e6"
          }
        },
        "6606e6dfd20f4424aecba18a2dfb2037": {
          "model_module": "@jupyter-widgets/controls",
          "model_name": "HTMLModel",
          "model_module_version": "1.5.0",
          "state": {
            "_view_name": "HTMLView",
            "style": "IPY_MODEL_e9084d8edaae435d986ce2a76ec56096",
            "_dom_classes": [],
            "description": "",
            "_model_name": "HTMLModel",
            "placeholder": "​",
            "_view_module": "@jupyter-widgets/controls",
            "_model_module_version": "1.5.0",
            "value": " 79/79 [00:34&lt;00:00,  2.50ba/s]",
            "_view_count": null,
            "_view_module_version": "1.5.0",
            "description_tooltip": null,
            "_model_module": "@jupyter-widgets/controls",
            "layout": "IPY_MODEL_8f886cd0f1084903a2012903f5b454b0"
          }
        },
        "831132b52ec54306a33a3b62e52a4fce": {
          "model_module": "@jupyter-widgets/controls",
          "model_name": "DescriptionStyleModel",
          "model_module_version": "1.5.0",
          "state": {
            "_view_name": "StyleView",
            "_model_name": "DescriptionStyleModel",
            "description_width": "",
            "_view_module": "@jupyter-widgets/base",
            "_model_module_version": "1.5.0",
            "_view_count": null,
            "_view_module_version": "1.2.0",
            "_model_module": "@jupyter-widgets/controls"
          }
        },
        "0e1f723e69ea4577968b64e7bc153d3e": {
          "model_module": "@jupyter-widgets/base",
          "model_name": "LayoutModel",
          "model_module_version": "1.2.0",
          "state": {
            "_view_name": "LayoutView",
            "grid_template_rows": null,
            "right": null,
            "justify_content": null,
            "_view_module": "@jupyter-widgets/base",
            "overflow": null,
            "_model_module_version": "1.2.0",
            "_view_count": null,
            "flex_flow": null,
            "width": null,
            "min_width": null,
            "border": null,
            "align_items": null,
            "bottom": null,
            "_model_module": "@jupyter-widgets/base",
            "top": null,
            "grid_column": null,
            "overflow_y": null,
            "overflow_x": null,
            "grid_auto_flow": null,
            "grid_area": null,
            "grid_template_columns": null,
            "flex": null,
            "_model_name": "LayoutModel",
            "justify_items": null,
            "grid_row": null,
            "max_height": null,
            "align_content": null,
            "visibility": null,
            "align_self": null,
            "height": null,
            "min_height": null,
            "padding": null,
            "grid_auto_rows": null,
            "grid_gap": null,
            "max_width": null,
            "order": null,
            "_view_module_version": "1.2.0",
            "grid_template_areas": null,
            "object_position": null,
            "object_fit": null,
            "grid_auto_columns": null,
            "margin": null,
            "display": null,
            "left": null
          }
        },
        "7e4bba8ef59843e8817eb970a07da545": {
          "model_module": "@jupyter-widgets/controls",
          "model_name": "ProgressStyleModel",
          "model_module_version": "1.5.0",
          "state": {
            "_view_name": "StyleView",
            "_model_name": "ProgressStyleModel",
            "description_width": "",
            "_view_module": "@jupyter-widgets/base",
            "_model_module_version": "1.5.0",
            "_view_count": null,
            "_view_module_version": "1.2.0",
            "bar_color": null,
            "_model_module": "@jupyter-widgets/controls"
          }
        },
        "1710ce88485a436bac6e9a894ac4f8e6": {
          "model_module": "@jupyter-widgets/base",
          "model_name": "LayoutModel",
          "model_module_version": "1.2.0",
          "state": {
            "_view_name": "LayoutView",
            "grid_template_rows": null,
            "right": null,
            "justify_content": null,
            "_view_module": "@jupyter-widgets/base",
            "overflow": null,
            "_model_module_version": "1.2.0",
            "_view_count": null,
            "flex_flow": null,
            "width": null,
            "min_width": null,
            "border": null,
            "align_items": null,
            "bottom": null,
            "_model_module": "@jupyter-widgets/base",
            "top": null,
            "grid_column": null,
            "overflow_y": null,
            "overflow_x": null,
            "grid_auto_flow": null,
            "grid_area": null,
            "grid_template_columns": null,
            "flex": null,
            "_model_name": "LayoutModel",
            "justify_items": null,
            "grid_row": null,
            "max_height": null,
            "align_content": null,
            "visibility": null,
            "align_self": null,
            "height": null,
            "min_height": null,
            "padding": null,
            "grid_auto_rows": null,
            "grid_gap": null,
            "max_width": null,
            "order": null,
            "_view_module_version": "1.2.0",
            "grid_template_areas": null,
            "object_position": null,
            "object_fit": null,
            "grid_auto_columns": null,
            "margin": null,
            "display": null,
            "left": null
          }
        },
        "e9084d8edaae435d986ce2a76ec56096": {
          "model_module": "@jupyter-widgets/controls",
          "model_name": "DescriptionStyleModel",
          "model_module_version": "1.5.0",
          "state": {
            "_view_name": "StyleView",
            "_model_name": "DescriptionStyleModel",
            "description_width": "",
            "_view_module": "@jupyter-widgets/base",
            "_model_module_version": "1.5.0",
            "_view_count": null,
            "_view_module_version": "1.2.0",
            "_model_module": "@jupyter-widgets/controls"
          }
        },
        "8f886cd0f1084903a2012903f5b454b0": {
          "model_module": "@jupyter-widgets/base",
          "model_name": "LayoutModel",
          "model_module_version": "1.2.0",
          "state": {
            "_view_name": "LayoutView",
            "grid_template_rows": null,
            "right": null,
            "justify_content": null,
            "_view_module": "@jupyter-widgets/base",
            "overflow": null,
            "_model_module_version": "1.2.0",
            "_view_count": null,
            "flex_flow": null,
            "width": null,
            "min_width": null,
            "border": null,
            "align_items": null,
            "bottom": null,
            "_model_module": "@jupyter-widgets/base",
            "top": null,
            "grid_column": null,
            "overflow_y": null,
            "overflow_x": null,
            "grid_auto_flow": null,
            "grid_area": null,
            "grid_template_columns": null,
            "flex": null,
            "_model_name": "LayoutModel",
            "justify_items": null,
            "grid_row": null,
            "max_height": null,
            "align_content": null,
            "visibility": null,
            "align_self": null,
            "height": null,
            "min_height": null,
            "padding": null,
            "grid_auto_rows": null,
            "grid_gap": null,
            "max_width": null,
            "order": null,
            "_view_module_version": "1.2.0",
            "grid_template_areas": null,
            "object_position": null,
            "object_fit": null,
            "grid_auto_columns": null,
            "margin": null,
            "display": null,
            "left": null
          }
        },
        "ff1046476deb4756905d0cac82292e3c": {
          "model_module": "@jupyter-widgets/controls",
          "model_name": "HBoxModel",
          "model_module_version": "1.5.0",
          "state": {
            "_view_name": "HBoxView",
            "_dom_classes": [],
            "_model_name": "HBoxModel",
            "_view_module": "@jupyter-widgets/controls",
            "_model_module_version": "1.5.0",
            "_view_count": null,
            "_view_module_version": "1.5.0",
            "box_style": "",
            "layout": "IPY_MODEL_67d9115d402749c49adb0178cac105c0",
            "_model_module": "@jupyter-widgets/controls",
            "children": [
              "IPY_MODEL_e2e31c69ad214449b80f7a8641229ad6",
              "IPY_MODEL_2f6d7eba256f47a9bcabe3bd0564ae02",
              "IPY_MODEL_6482c105a50f4d9fa1ede848f1b45e6b"
            ]
          }
        },
        "67d9115d402749c49adb0178cac105c0": {
          "model_module": "@jupyter-widgets/base",
          "model_name": "LayoutModel",
          "model_module_version": "1.2.0",
          "state": {
            "_view_name": "LayoutView",
            "grid_template_rows": null,
            "right": null,
            "justify_content": null,
            "_view_module": "@jupyter-widgets/base",
            "overflow": null,
            "_model_module_version": "1.2.0",
            "_view_count": null,
            "flex_flow": null,
            "width": null,
            "min_width": null,
            "border": null,
            "align_items": null,
            "bottom": null,
            "_model_module": "@jupyter-widgets/base",
            "top": null,
            "grid_column": null,
            "overflow_y": null,
            "overflow_x": null,
            "grid_auto_flow": null,
            "grid_area": null,
            "grid_template_columns": null,
            "flex": null,
            "_model_name": "LayoutModel",
            "justify_items": null,
            "grid_row": null,
            "max_height": null,
            "align_content": null,
            "visibility": null,
            "align_self": null,
            "height": null,
            "min_height": null,
            "padding": null,
            "grid_auto_rows": null,
            "grid_gap": null,
            "max_width": null,
            "order": null,
            "_view_module_version": "1.2.0",
            "grid_template_areas": null,
            "object_position": null,
            "object_fit": null,
            "grid_auto_columns": null,
            "margin": null,
            "display": null,
            "left": null
          }
        },
        "e2e31c69ad214449b80f7a8641229ad6": {
          "model_module": "@jupyter-widgets/controls",
          "model_name": "HTMLModel",
          "model_module_version": "1.5.0",
          "state": {
            "_view_name": "HTMLView",
            "style": "IPY_MODEL_ad8bb7bf062c4649a934551b296a65a8",
            "_dom_classes": [],
            "description": "",
            "_model_name": "HTMLModel",
            "placeholder": "​",
            "_view_module": "@jupyter-widgets/controls",
            "_model_module_version": "1.5.0",
            "value": "100%",
            "_view_count": null,
            "_view_module_version": "1.5.0",
            "description_tooltip": null,
            "_model_module": "@jupyter-widgets/controls",
            "layout": "IPY_MODEL_9dda2f66b0554447838a4cc301c8f3f1"
          }
        },
        "2f6d7eba256f47a9bcabe3bd0564ae02": {
          "model_module": "@jupyter-widgets/controls",
          "model_name": "FloatProgressModel",
          "model_module_version": "1.5.0",
          "state": {
            "_view_name": "ProgressView",
            "style": "IPY_MODEL_24cc3e497f45444dadb94054048b8d08",
            "_dom_classes": [],
            "description": "",
            "_model_name": "FloatProgressModel",
            "bar_style": "success",
            "max": 20,
            "_view_module": "@jupyter-widgets/controls",
            "_model_module_version": "1.5.0",
            "value": 20,
            "_view_count": null,
            "_view_module_version": "1.5.0",
            "orientation": "horizontal",
            "min": 0,
            "description_tooltip": null,
            "_model_module": "@jupyter-widgets/controls",
            "layout": "IPY_MODEL_ec062a6809d547fe82351ac1cfe7ade7"
          }
        },
        "6482c105a50f4d9fa1ede848f1b45e6b": {
          "model_module": "@jupyter-widgets/controls",
          "model_name": "HTMLModel",
          "model_module_version": "1.5.0",
          "state": {
            "_view_name": "HTMLView",
            "style": "IPY_MODEL_91968dfdb1d24d1ea63f2617889af84f",
            "_dom_classes": [],
            "description": "",
            "_model_name": "HTMLModel",
            "placeholder": "​",
            "_view_module": "@jupyter-widgets/controls",
            "_model_module_version": "1.5.0",
            "value": " 20/20 [00:08&lt;00:00,  2.58ba/s]",
            "_view_count": null,
            "_view_module_version": "1.5.0",
            "description_tooltip": null,
            "_model_module": "@jupyter-widgets/controls",
            "layout": "IPY_MODEL_c93d56c4d1154f04b3638c0218117d47"
          }
        },
        "ad8bb7bf062c4649a934551b296a65a8": {
          "model_module": "@jupyter-widgets/controls",
          "model_name": "DescriptionStyleModel",
          "model_module_version": "1.5.0",
          "state": {
            "_view_name": "StyleView",
            "_model_name": "DescriptionStyleModel",
            "description_width": "",
            "_view_module": "@jupyter-widgets/base",
            "_model_module_version": "1.5.0",
            "_view_count": null,
            "_view_module_version": "1.2.0",
            "_model_module": "@jupyter-widgets/controls"
          }
        },
        "9dda2f66b0554447838a4cc301c8f3f1": {
          "model_module": "@jupyter-widgets/base",
          "model_name": "LayoutModel",
          "model_module_version": "1.2.0",
          "state": {
            "_view_name": "LayoutView",
            "grid_template_rows": null,
            "right": null,
            "justify_content": null,
            "_view_module": "@jupyter-widgets/base",
            "overflow": null,
            "_model_module_version": "1.2.0",
            "_view_count": null,
            "flex_flow": null,
            "width": null,
            "min_width": null,
            "border": null,
            "align_items": null,
            "bottom": null,
            "_model_module": "@jupyter-widgets/base",
            "top": null,
            "grid_column": null,
            "overflow_y": null,
            "overflow_x": null,
            "grid_auto_flow": null,
            "grid_area": null,
            "grid_template_columns": null,
            "flex": null,
            "_model_name": "LayoutModel",
            "justify_items": null,
            "grid_row": null,
            "max_height": null,
            "align_content": null,
            "visibility": null,
            "align_self": null,
            "height": null,
            "min_height": null,
            "padding": null,
            "grid_auto_rows": null,
            "grid_gap": null,
            "max_width": null,
            "order": null,
            "_view_module_version": "1.2.0",
            "grid_template_areas": null,
            "object_position": null,
            "object_fit": null,
            "grid_auto_columns": null,
            "margin": null,
            "display": null,
            "left": null
          }
        },
        "24cc3e497f45444dadb94054048b8d08": {
          "model_module": "@jupyter-widgets/controls",
          "model_name": "ProgressStyleModel",
          "model_module_version": "1.5.0",
          "state": {
            "_view_name": "StyleView",
            "_model_name": "ProgressStyleModel",
            "description_width": "",
            "_view_module": "@jupyter-widgets/base",
            "_model_module_version": "1.5.0",
            "_view_count": null,
            "_view_module_version": "1.2.0",
            "bar_color": null,
            "_model_module": "@jupyter-widgets/controls"
          }
        },
        "ec062a6809d547fe82351ac1cfe7ade7": {
          "model_module": "@jupyter-widgets/base",
          "model_name": "LayoutModel",
          "model_module_version": "1.2.0",
          "state": {
            "_view_name": "LayoutView",
            "grid_template_rows": null,
            "right": null,
            "justify_content": null,
            "_view_module": "@jupyter-widgets/base",
            "overflow": null,
            "_model_module_version": "1.2.0",
            "_view_count": null,
            "flex_flow": null,
            "width": null,
            "min_width": null,
            "border": null,
            "align_items": null,
            "bottom": null,
            "_model_module": "@jupyter-widgets/base",
            "top": null,
            "grid_column": null,
            "overflow_y": null,
            "overflow_x": null,
            "grid_auto_flow": null,
            "grid_area": null,
            "grid_template_columns": null,
            "flex": null,
            "_model_name": "LayoutModel",
            "justify_items": null,
            "grid_row": null,
            "max_height": null,
            "align_content": null,
            "visibility": null,
            "align_self": null,
            "height": null,
            "min_height": null,
            "padding": null,
            "grid_auto_rows": null,
            "grid_gap": null,
            "max_width": null,
            "order": null,
            "_view_module_version": "1.2.0",
            "grid_template_areas": null,
            "object_position": null,
            "object_fit": null,
            "grid_auto_columns": null,
            "margin": null,
            "display": null,
            "left": null
          }
        },
        "91968dfdb1d24d1ea63f2617889af84f": {
          "model_module": "@jupyter-widgets/controls",
          "model_name": "DescriptionStyleModel",
          "model_module_version": "1.5.0",
          "state": {
            "_view_name": "StyleView",
            "_model_name": "DescriptionStyleModel",
            "description_width": "",
            "_view_module": "@jupyter-widgets/base",
            "_model_module_version": "1.5.0",
            "_view_count": null,
            "_view_module_version": "1.2.0",
            "_model_module": "@jupyter-widgets/controls"
          }
        },
        "c93d56c4d1154f04b3638c0218117d47": {
          "model_module": "@jupyter-widgets/base",
          "model_name": "LayoutModel",
          "model_module_version": "1.2.0",
          "state": {
            "_view_name": "LayoutView",
            "grid_template_rows": null,
            "right": null,
            "justify_content": null,
            "_view_module": "@jupyter-widgets/base",
            "overflow": null,
            "_model_module_version": "1.2.0",
            "_view_count": null,
            "flex_flow": null,
            "width": null,
            "min_width": null,
            "border": null,
            "align_items": null,
            "bottom": null,
            "_model_module": "@jupyter-widgets/base",
            "top": null,
            "grid_column": null,
            "overflow_y": null,
            "overflow_x": null,
            "grid_auto_flow": null,
            "grid_area": null,
            "grid_template_columns": null,
            "flex": null,
            "_model_name": "LayoutModel",
            "justify_items": null,
            "grid_row": null,
            "max_height": null,
            "align_content": null,
            "visibility": null,
            "align_self": null,
            "height": null,
            "min_height": null,
            "padding": null,
            "grid_auto_rows": null,
            "grid_gap": null,
            "max_width": null,
            "order": null,
            "_view_module_version": "1.2.0",
            "grid_template_areas": null,
            "object_position": null,
            "object_fit": null,
            "grid_auto_columns": null,
            "margin": null,
            "display": null,
            "left": null
          }
        }
      }
    },
    "accelerator": "GPU"
  },
  "cells": [
    {
      "cell_type": "markdown",
      "metadata": {
        "id": "view-in-github",
        "colab_type": "text"
      },
      "source": [
        "<a href=\"https://colab.research.google.com/github/AhmedSSoliman/English_to_Dutch_MarianMT_Transformers/blob/main/English_to_Dutch_MarianMT_Transformers.ipynb\" target=\"_parent\"><img src=\"https://colab.research.google.com/assets/colab-badge.svg\" alt=\"Open In Colab\"/></a>"
      ]
    },
    {
      "cell_type": "code",
      "metadata": {
        "colab": {
          "base_uri": "https://localhost:8080/"
        },
        "id": "EDMLv2gm_841",
        "outputId": "53a2b00e-9179-4885-db2b-106de7558633"
      },
      "source": [
        "from google.colab import drive\n",
        "drive.mount('/content/drive')"
      ],
      "execution_count": null,
      "outputs": [
        {
          "output_type": "stream",
          "name": "stdout",
          "text": [
            "Mounted at /content/drive\n"
          ]
        }
      ]
    },
    {
      "cell_type": "code",
      "metadata": {
        "colab": {
          "base_uri": "https://localhost:8080/"
        },
        "id": "H6yyho4uswpC",
        "outputId": "885ea03e-348e-4ddb-d0c0-ea40d729624a"
      },
      "source": [
        "!pip install -q transformers[sentencepiece]\n",
        "!pip install -q datasets\n",
        "!pip install -q sacrebleu\n",
        "!pip install -q tqdm"
      ],
      "execution_count": null,
      "outputs": [
        {
          "output_type": "stream",
          "name": "stdout",
          "text": [
            "Found existing installation: tqdm 4.43.0\n",
            "Uninstalling tqdm-4.43.0:\n",
            "  Successfully uninstalled tqdm-4.43.0\n",
            "\u001b[K     |████████████████████████████████| 76 kB 2.2 MB/s \n",
            "\u001b[?25h"
          ]
        }
      ]
    },
    {
      "cell_type": "code",
      "metadata": {
        "colab": {
          "base_uri": "https://localhost:8080/"
        },
        "id": "KrL8FDR2tlqh",
        "outputId": "5889ebec-83a2-488c-8682-a53dbb0a0c4f"
      },
      "source": [
        "!gdown https://drive.google.com/uc?id=18NmpZ8BWWMEWlmSCacLDOKcGaz-qHoOg"
      ],
      "execution_count": null,
      "outputs": [
        {
          "output_type": "stream",
          "name": "stdout",
          "text": [
            "Downloading...\n",
            "From: https://drive.google.com/uc?id=18NmpZ8BWWMEWlmSCacLDOKcGaz-qHoOg\n",
            "To: /content/Dutch.xlsx\n",
            "\r0.00B [00:00, ?B/s]\r14.3MB [00:00, 125MB/s]\n"
          ]
        }
      ]
    },
    {
      "cell_type": "code",
      "metadata": {
        "id": "9D0r_U7KuO0s"
      },
      "source": [
        "import pandas as pd\n",
        "import numpy as np\n",
        "import seaborn as sns \n",
        "import matplotlib.pyplot as plt\n",
        "from datasets import Dataset,load_metric\n",
        "from sklearn.model_selection import train_test_split\n",
        "import torch\n",
        "from tqdm.auto import tqdm\n",
        "from transformers import MarianConfig,MarianMTModel,MarianTokenizer,DataCollatorForSeq2Seq,AdamW\n",
        "checkpoint = 'Helsinki-NLP/opus-mt-en-nl'"
      ],
      "execution_count": null,
      "outputs": []
    },
    {
      "cell_type": "code",
      "metadata": {
        "colab": {
          "base_uri": "https://localhost:8080/",
          "height": 206
        },
        "id": "57UTaZsrt-2e",
        "outputId": "6ea3e7bd-ca8c-4eb9-da6b-bb1da9c17074"
      },
      "source": [
        "df = pd.read_excel('/content/Dutch.xlsx')\n",
        "df.head()"
      ],
      "execution_count": null,
      "outputs": [
        {
          "output_type": "execute_result",
          "data": {
            "text/html": [
              "<div>\n",
              "<style scoped>\n",
              "    .dataframe tbody tr th:only-of-type {\n",
              "        vertical-align: middle;\n",
              "    }\n",
              "\n",
              "    .dataframe tbody tr th {\n",
              "        vertical-align: top;\n",
              "    }\n",
              "\n",
              "    .dataframe thead th {\n",
              "        text-align: right;\n",
              "    }\n",
              "</style>\n",
              "<table border=\"1\" class=\"dataframe\">\n",
              "  <thead>\n",
              "    <tr style=\"text-align: right;\">\n",
              "      <th></th>\n",
              "      <th>English</th>\n",
              "      <th>Dutch</th>\n",
              "    </tr>\n",
              "  </thead>\n",
              "  <tbody>\n",
              "    <tr>\n",
              "      <th>0</th>\n",
              "      <td>Resumption of the session</td>\n",
              "      <td>Hervatting van de zitting</td>\n",
              "    </tr>\n",
              "    <tr>\n",
              "      <th>1</th>\n",
              "      <td>I declare resumed the session of the European ...</td>\n",
              "      <td>Ik verklaar de zitting van het Europees Parlem...</td>\n",
              "    </tr>\n",
              "    <tr>\n",
              "      <th>2</th>\n",
              "      <td>Although, as you will have seen, the dreaded '...</td>\n",
              "      <td>Zoals u heeft kunnen constateren, is de grote ...</td>\n",
              "    </tr>\n",
              "    <tr>\n",
              "      <th>3</th>\n",
              "      <td>You have requested a debate on this subject in...</td>\n",
              "      <td>U heeft aangegeven dat u deze vergaderperiode ...</td>\n",
              "    </tr>\n",
              "    <tr>\n",
              "      <th>4</th>\n",
              "      <td>In the meantime, I should like to observe a mi...</td>\n",
              "      <td>Nu wil ik graag op verzoek van een aantal coll...</td>\n",
              "    </tr>\n",
              "  </tbody>\n",
              "</table>\n",
              "</div>"
            ],
            "text/plain": [
              "                                             English                                              Dutch\n",
              "0                          Resumption of the session                          Hervatting van de zitting\n",
              "1  I declare resumed the session of the European ...  Ik verklaar de zitting van het Europees Parlem...\n",
              "2  Although, as you will have seen, the dreaded '...  Zoals u heeft kunnen constateren, is de grote ...\n",
              "3  You have requested a debate on this subject in...  U heeft aangegeven dat u deze vergaderperiode ...\n",
              "4  In the meantime, I should like to observe a mi...  Nu wil ik graag op verzoek van een aantal coll..."
            ]
          },
          "metadata": {},
          "execution_count": 2
        }
      ]
    },
    {
      "cell_type": "code",
      "metadata": {
        "colab": {
          "base_uri": "https://localhost:8080/"
        },
        "id": "0GaVsnDXuM2l",
        "outputId": "27d06cf1-2368-4c42-a7b6-82041d9efa9e"
      },
      "source": [
        "df.isnull().sum()"
      ],
      "execution_count": null,
      "outputs": [
        {
          "output_type": "execute_result",
          "data": {
            "text/plain": [
              "English    1393\n",
              "Dutch       121\n",
              "dtype: int64"
            ]
          },
          "metadata": {},
          "execution_count": 8
        }
      ]
    },
    {
      "cell_type": "code",
      "metadata": {
        "id": "hxkO9mYwuzpZ"
      },
      "source": [
        "df.dropna(axis = 0,inplace=True)\n",
        "df.reset_index(inplace=True)\n",
        "df.drop('index',axis = 1,inplace=True)"
      ],
      "execution_count": null,
      "outputs": []
    },
    {
      "cell_type": "code",
      "metadata": {
        "colab": {
          "base_uri": "https://localhost:8080/",
          "height": 206
        },
        "id": "Q5-KiB3yvStk",
        "outputId": "6d87972f-8746-451e-967f-0066879ca8c5"
      },
      "source": [
        "df.head()"
      ],
      "execution_count": null,
      "outputs": [
        {
          "output_type": "execute_result",
          "data": {
            "text/html": [
              "<div>\n",
              "<style scoped>\n",
              "    .dataframe tbody tr th:only-of-type {\n",
              "        vertical-align: middle;\n",
              "    }\n",
              "\n",
              "    .dataframe tbody tr th {\n",
              "        vertical-align: top;\n",
              "    }\n",
              "\n",
              "    .dataframe thead th {\n",
              "        text-align: right;\n",
              "    }\n",
              "</style>\n",
              "<table border=\"1\" class=\"dataframe\">\n",
              "  <thead>\n",
              "    <tr style=\"text-align: right;\">\n",
              "      <th></th>\n",
              "      <th>English</th>\n",
              "      <th>Dutch</th>\n",
              "    </tr>\n",
              "  </thead>\n",
              "  <tbody>\n",
              "    <tr>\n",
              "      <th>0</th>\n",
              "      <td>Resumption of the session</td>\n",
              "      <td>Hervatting van de zitting</td>\n",
              "    </tr>\n",
              "    <tr>\n",
              "      <th>1</th>\n",
              "      <td>I declare resumed the session of the European ...</td>\n",
              "      <td>Ik verklaar de zitting van het Europees Parlem...</td>\n",
              "    </tr>\n",
              "    <tr>\n",
              "      <th>2</th>\n",
              "      <td>Although, as you will have seen, the dreaded '...</td>\n",
              "      <td>Zoals u heeft kunnen constateren, is de grote ...</td>\n",
              "    </tr>\n",
              "    <tr>\n",
              "      <th>3</th>\n",
              "      <td>You have requested a debate on this subject in...</td>\n",
              "      <td>U heeft aangegeven dat u deze vergaderperiode ...</td>\n",
              "    </tr>\n",
              "    <tr>\n",
              "      <th>4</th>\n",
              "      <td>In the meantime, I should like to observe a mi...</td>\n",
              "      <td>Nu wil ik graag op verzoek van een aantal coll...</td>\n",
              "    </tr>\n",
              "  </tbody>\n",
              "</table>\n",
              "</div>"
            ],
            "text/plain": [
              "                                             English                                              Dutch\n",
              "0                          Resumption of the session                          Hervatting van de zitting\n",
              "1  I declare resumed the session of the European ...  Ik verklaar de zitting van het Europees Parlem...\n",
              "2  Although, as you will have seen, the dreaded '...  Zoals u heeft kunnen constateren, is de grote ...\n",
              "3  You have requested a debate on this subject in...  U heeft aangegeven dat u deze vergaderperiode ...\n",
              "4  In the meantime, I should like to observe a mi...  Nu wil ik graag op verzoek van een aantal coll..."
            ]
          },
          "metadata": {},
          "execution_count": 10
        }
      ]
    },
    {
      "cell_type": "code",
      "metadata": {
        "id": "0b9z6sQGvUp1"
      },
      "source": [
        "train_df,val_df = train_test_split(df,random_state = 42,test_size = 0.2)"
      ],
      "execution_count": null,
      "outputs": []
    },
    {
      "cell_type": "code",
      "metadata": {
        "colab": {
          "base_uri": "https://localhost:8080/"
        },
        "id": "RY_djd4qvkmr",
        "outputId": "5bb598dc-0d67-41a2-9695-8ef7ebe3d051"
      },
      "source": [
        "print(train_df.shape)\n",
        "print(val_df.shape)"
      ],
      "execution_count": null,
      "outputs": [
        {
          "output_type": "stream",
          "name": "stdout",
          "text": [
            "(78788, 2)\n",
            "(19698, 2)\n"
          ]
        }
      ]
    },
    {
      "cell_type": "code",
      "metadata": {
        "id": "79bm281YzXQT"
      },
      "source": [
        "#Hyperparameters\n",
        "device = torch.device('cuda') if torch.cuda.is_available() else torch.device('cpu')\n",
        "max_length = 512\n",
        "batch_size = 8\n",
        "learning_rate = 1e-5"
      ],
      "execution_count": null,
      "outputs": []
    },
    {
      "cell_type": "code",
      "metadata": {
        "colab": {
          "base_uri": "https://localhost:8080/",
          "height": 281
        },
        "id": "uIduJsnQvnma",
        "outputId": "80d3657a-d150-457b-a4bb-4a0a3c403c7c"
      },
      "source": [
        "length_list = []\n",
        "for i in train_df.English:\n",
        "  length_list.append(len(i))\n",
        "sns.histplot(length_list,bins = 50)\n",
        "plt.title('English Sequence Length Distribution')\n",
        "plt.show()"
      ],
      "execution_count": null,
      "outputs": [
        {
          "output_type": "display_data",
          "data": {
            "image/png": "[encoded data removed]",
            "text/plain": [
              "<Figure size 432x288 with 1 Axes>"
            ]
          },
          "metadata": {
            "needs_background": "light"
          }
        }
      ]
    },
    {
      "cell_type": "code",
      "metadata": {
        "colab": {
          "base_uri": "https://localhost:8080/",
          "height": 281
        },
        "id": "pmUJDZB5wZk8",
        "outputId": "1ad2b619-316e-47ef-c2bf-344a48af6168"
      },
      "source": [
        "length_list = []\n",
        "for i in train_df.Dutch:\n",
        "  length_list.append(len(i))\n",
        "sns.histplot(length_list,bins = 50)\n",
        "plt.title('Dutch Sequence Length Distribution')\n",
        "plt.show()"
      ],
      "execution_count": null,
      "outputs": [
        {
          "output_type": "display_data",
          "data": {
            "image/png": "[encoded data removed]",
            "text/plain": [
              "<Figure size 432x288 with 1 Axes>"
            ]
          },
          "metadata": {
            "needs_background": "light"
          }
        }
      ]
    },
    {
      "cell_type": "code",
      "metadata": {
        "colab": {
          "base_uri": "https://localhost:8080/"
        },
        "id": "KKOgnIZ1w1VK",
        "outputId": "f041ed8a-9e9e-4527-93a5-9cdf39c7f109"
      },
      "source": [
        "train_dataset = Dataset.from_pandas(train_df)\n",
        "val_dataset = Dataset.from_pandas(val_df)\n",
        "train_dataset = train_dataset.remove_columns(['__index_level_0__'])\n",
        "val_dataset = val_dataset.remove_columns(['__index_level_0__'])\n",
        "print(train_dataset)\n",
        "print(val_dataset)"
      ],
      "execution_count": null,
      "outputs": [
        {
          "output_type": "stream",
          "name": "stdout",
          "text": [
            "Dataset({\n",
            "    features: ['English', 'Dutch'],\n",
            "    num_rows: 78788\n",
            "})\n",
            "Dataset({\n",
            "    features: ['English', 'Dutch'],\n",
            "    num_rows: 19698\n",
            "})\n"
          ]
        }
      ]
    },
    {
      "cell_type": "code",
      "metadata": {
        "colab": {
          "base_uri": "https://localhost:8080/"
        },
        "id": "HC2UmaWgx-IT",
        "outputId": "c3167dca-9be1-46ad-bf71-677061d77e31"
      },
      "source": [
        "tokenizer = MarianTokenizer.from_pretrained(checkpoint)\n",
        "tokenizer"
      ],
      "execution_count": null,
      "outputs": [
        {
          "output_type": "execute_result",
          "data": {
            "text/plain": [
              "PreTrainedTokenizer(name_or_path='Helsinki-NLP/opus-mt-en-nl', vocab_size=67028, model_max_len=512, is_fast=False, padding_side='right', special_tokens={'eos_token': '</s>', 'unk_token': '<unk>', 'pad_token': '<pad>'})"
            ]
          },
          "metadata": {},
          "execution_count": 9
        }
      ]
    },
    {
      "cell_type": "code",
      "metadata": {
        "colab": {
          "base_uri": "https://localhost:8080/"
        },
        "id": "nO9loKljzKIa",
        "outputId": "c7b98998-060c-4ec5-c0f7-8e336fde1ebb"
      },
      "source": [
        "model = MarianMTModel.from_pretrained(checkpoint)\n",
        "model.config.pad_token_id"
      ],
      "execution_count": null,
      "outputs": [
        {
          "output_type": "execute_result",
          "data": {
            "text/plain": [
              "67027"
            ]
          },
          "metadata": {},
          "execution_count": 10
        }
      ]
    },
    {
      "cell_type": "code",
      "metadata": {
        "id": "jwRmAfpwzM9M"
      },
      "source": [
        "def preprocess(examples,MAX_LENGTH = 512):\n",
        "  model_inputs = tokenizer(examples['English'],\n",
        "                           max_length=MAX_LENGTH,\n",
        "                           padding = 'max_length',\n",
        "                           truncation=True,\n",
        "                           return_attention_mask = True)\n",
        "  with tokenizer.as_target_tokenizer():\n",
        "    targets = tokenizer(examples['Dutch'],\n",
        "                        max_length=MAX_LENGTH,\n",
        "                        padding='max_length',\n",
        "                        truncation=True,\n",
        "                        return_attention_mask=True)\n",
        "  model_inputs['labels'] = targets['input_ids']\n",
        "  model_inputs['decoder_input_ids'] = targets['input_ids']\n",
        "  model_inputs['decoder_attention_mask'] = targets['attention_mask']\n",
        "  return model_inputs"
      ],
      "execution_count": null,
      "outputs": []
    },
    {
      "cell_type": "code",
      "metadata": {
        "colab": {
          "base_uri": "https://localhost:8080/",
          "height": 81,
          "referenced_widgets": [
            "0343f26824a6482ea6d6294659cb40e9",
            "49ba4d276d6445ceb0bfabc2e2b32515",
            "d162e9119e204bdcad9caf656c6d6b5a",
            "bc683769b6674caf9b725e6ab09b8af1",
            "6606e6dfd20f4424aecba18a2dfb2037",
            "831132b52ec54306a33a3b62e52a4fce",
            "0e1f723e69ea4577968b64e7bc153d3e",
            "7e4bba8ef59843e8817eb970a07da545",
            "1710ce88485a436bac6e9a894ac4f8e6",
            "e9084d8edaae435d986ce2a76ec56096",
            "8f886cd0f1084903a2012903f5b454b0",
            "ff1046476deb4756905d0cac82292e3c",
            "67d9115d402749c49adb0178cac105c0",
            "e2e31c69ad214449b80f7a8641229ad6",
            "2f6d7eba256f47a9bcabe3bd0564ae02",
            "6482c105a50f4d9fa1ede848f1b45e6b",
            "ad8bb7bf062c4649a934551b296a65a8",
            "9dda2f66b0554447838a4cc301c8f3f1",
            "24cc3e497f45444dadb94054048b8d08",
            "ec062a6809d547fe82351ac1cfe7ade7",
            "91968dfdb1d24d1ea63f2617889af84f",
            "c93d56c4d1154f04b3638c0218117d47"
          ]
        },
        "id": "ElSq_vkzz038",
        "outputId": "2ccbfaa7-ba81-4b57-a457-2972e08feabd"
      },
      "source": [
        "train_inputs = train_dataset.map(preprocess,batched = True)\n",
        "val_inputs = val_dataset.map(preprocess,batched = True)\n",
        "train_inputs = train_inputs.remove_columns(['English','Dutch'])\n",
        "val_inputs = val_inputs.remove_columns(['English','Dutch'])"
      ],
      "execution_count": null,
      "outputs": [
        {
          "output_type": "display_data",
          "data": {
            "application/vnd.jupyter.widget-view+json": {
              "model_id": "0343f26824a6482ea6d6294659cb40e9",
              "version_minor": 0,
              "version_major": 2
            },
            "text/plain": [
              "  0%|          | 0/79 [00:00<?, ?ba/s]"
            ]
          },
          "metadata": {}
        },
        {
          "output_type": "display_data",
          "data": {
            "application/vnd.jupyter.widget-view+json": {
              "model_id": "ff1046476deb4756905d0cac82292e3c",
              "version_minor": 0,
              "version_major": 2
            },
            "text/plain": [
              "  0%|          | 0/20 [00:00<?, ?ba/s]"
            ]
          },
          "metadata": {}
        }
      ]
    },
    {
      "cell_type": "code",
      "metadata": {
        "id": "tHv_U6xgz8Y0"
      },
      "source": [
        "data_collator = DataCollatorForSeq2Seq(tokenizer=tokenizer,\n",
        "                                       max_length=512,\n",
        "                                       model = model)"
      ],
      "execution_count": null,
      "outputs": []
    },
    {
      "cell_type": "code",
      "metadata": {
        "id": "dsS7-adT0OY6"
      },
      "source": [
        "train_dataloader = torch.utils.data.DataLoader(train_inputs,\n",
        "                                               batch_size = batch_size,\n",
        "                                               shuffle = True,\n",
        "                                               collate_fn = data_collator)\n",
        "val_dataloader = torch.utils.data.DataLoader(val_inputs,\n",
        "                                             batch_size = batch_size,\n",
        "                                             shuffle = False,\n",
        "                                             collate_fn = data_collator)"
      ],
      "execution_count": null,
      "outputs": []
    },
    {
      "cell_type": "code",
      "metadata": {
        "colab": {
          "base_uri": "https://localhost:8080/"
        },
        "id": "YWsGNlE30Sd3",
        "outputId": "2492b5fa-b964-4142-b815-000e78bbc6aa"
      },
      "source": [
        "for batch in train_dataloader:\n",
        "  break\n",
        "batch['labels'][batch['labels']==67027] = -100\n",
        "print(batch['labels'])"
      ],
      "execution_count": null,
      "outputs": [
        {
          "output_type": "stream",
          "name": "stdout",
          "text": [
            "tensor([[17486,  1193,   275,  ...,  -100,  -100,  -100],\n",
            "        [ 1532,     5,   853,  ...,  -100,  -100,  -100],\n",
            "        [   49, 27922,     6,  ...,  -100,  -100,  -100],\n",
            "        ...,\n",
            "        [ 1532,  1700, 41085,  ...,  -100,  -100,  -100],\n",
            "        [17486,   141,  4156,  ...,  -100,  -100,  -100],\n",
            "        [  596,    42,  3751,  ...,  -100,  -100,  -100]])\n"
          ]
        }
      ]
    },
    {
      "cell_type": "code",
      "metadata": {
        "id": "kU-PozZy0U3o"
      },
      "source": [
        "# model.to(device)\n",
        "# outputs = model(**batch)\n",
        "# print(outputs.logits.shape)\n",
        "# print(outputs.loss)\n",
        "# output = torch.argmax(outputs.logits,dim =-1)\n",
        "# tokenizer.batch_decode(output)"
      ],
      "execution_count": null,
      "outputs": []
    },
    {
      "cell_type": "code",
      "metadata": {
        "colab": {
          "base_uri": "https://localhost:8080/"
        },
        "id": "IMJ0gvPr09Ik",
        "outputId": "b0b813f7-3e2b-4a14-b9ca-c597c849f5ab"
      },
      "source": [
        "num_epochs = 2\n",
        "num_training_steps = num_epochs * len(train_dataloader)\n",
        "print(num_training_steps)"
      ],
      "execution_count": null,
      "outputs": [
        {
          "output_type": "stream",
          "name": "stdout",
          "text": [
            "19698\n"
          ]
        }
      ]
    },
    {
      "cell_type": "code",
      "metadata": {
        "id": "l3Tr72Wt1ZYk"
      },
      "source": [
        "optimizer = AdamW(model.parameters(),lr = learning_rate)"
      ],
      "execution_count": null,
      "outputs": []
    },
    {
      "cell_type": "code",
      "metadata": {
        "id": "SVX1tW661eKh",
        "colab": {
          "base_uri": "https://localhost:8080/"
        },
        "outputId": "ccd726a3-949a-446b-be7e-1fa21e5af593"
      },
      "source": [
        "model.to(device)\n",
        "progress_bar = tqdm(range(num_training_steps))\n",
        "model.train()\n",
        "for epoch in range(num_epochs):\n",
        "  epoch_loss = 0.0\n",
        "  run_loss = 0.0\n",
        "  for batch in train_dataloader:\n",
        "    batch['labels'][batch['labels']==67027] = -100\n",
        "    batch = {k: v.to(device) for k, v in batch.items()}\n",
        "    outputs = model(**batch)\n",
        "    loss = outputs.loss\n",
        "    run_loss += loss \n",
        "    loss.backward()\n",
        "    optimizer.step()\n",
        "    optimizer.zero_grad()\n",
        "    progress_bar.update(1)\n",
        "  epoch_loss = run_loss/len(train_dataloader)\n",
        "  print(100*'-')\n",
        "  print('Epoch:{}====>Loss:{:.4f}'.format(epoch+1,epoch_loss))"
      ],
      "execution_count": null,
      "outputs": [
        {
          "output_type": "stream",
          "name": "stderr",
          "text": [
            " 50%|█████     | 9849/19698 [1:17:11<1:06:21,  2.47it/s]"
          ]
        },
        {
          "output_type": "stream",
          "name": "stdout",
          "text": [
            "----------------------------------------------------------------------------------------------------\n",
            "Epoch:1====>Loss:1.6144\n"
          ]
        },
        {
          "output_type": "stream",
          "name": "stderr",
          "text": [
            "100%|██████████| 19698/19698 [2:34:35<00:00,  2.48it/s]"
          ]
        },
        {
          "output_type": "stream",
          "name": "stdout",
          "text": [
            "----------------------------------------------------------------------------------------------------\n",
            "Epoch:2====>Loss:1.5116\n"
          ]
        }
      ]
    },
    {
      "cell_type": "code",
      "metadata": {
        "id": "IQ5twMFOGtwD"
      },
      "source": [
        ""
      ],
      "execution_count": null,
      "outputs": []
    },
    {
      "cell_type": "code",
      "metadata": {
        "id": "KCV7sp_HawKS",
        "colab": {
          "base_uri": "https://localhost:8080/"
        },
        "outputId": "362e0f14-ea2b-4617-cebf-9d848fc3875d"
      },
      "source": [
        "model.save_pretrained('MarianMT-Englidh-to-dutch')"
      ],
      "execution_count": null,
      "outputs": [
        {
          "output_type": "stream",
          "name": "stderr",
          "text": [
            "Configuration saved in MarianMT-Englidh-to-dutch/config.json\n",
            "Model weights saved in MarianMT-Englidh-to-dutch/pytorch_model.bin\n"
          ]
        }
      ]
    },
    {
      "cell_type": "code",
      "metadata": {
        "colab": {
          "base_uri": "https://localhost:8080/"
        },
        "id": "6P7aImHLazDW",
        "outputId": "a00a35e6-f2e6-4c4c-a570-3ba4a3945ad9"
      },
      "source": [
        "tokenizer.save_pretrained('MarianMT-Englidh-to-dutch')"
      ],
      "execution_count": null,
      "outputs": [
        {
          "output_type": "stream",
          "name": "stderr",
          "text": [
            "tokenizer config file saved in MarianMT-Englidh-to-dutch/tokenizer_config.json\n",
            "Special tokens file saved in MarianMT-Englidh-to-dutch/special_tokens_map.json\n"
          ]
        },
        {
          "output_type": "execute_result",
          "data": {
            "text/plain": [
              "('MarianMT-Englidh-to-dutch/tokenizer_config.json',\n",
              " 'MarianMT-Englidh-to-dutch/special_tokens_map.json',\n",
              " PosixPath('MarianMT-Englidh-to-dutch/source_spm'),\n",
              " PosixPath('MarianMT-Englidh-to-dutch/target_spm'),\n",
              " PosixPath('MarianMT-Englidh-to-dutch/vocab'),\n",
              " PosixPath('MarianMT-Englidh-to-dutch/tokenizer_config_file'),\n",
              " 'MarianMT-Englidh-to-dutch/added_tokens.json')"
            ]
          },
          "metadata": {},
          "execution_count": 39
        }
      ]
    }
  ]
}